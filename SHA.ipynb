{
 "cells": [
  {
   "cell_type": "code",
   "execution_count": 25,
   "metadata": {
    "collapsed": true,
    "pycharm": {
     "name": "#%%\n"
    }
   },
   "outputs": [
    {
     "name": "stdout",
     "output_type": "stream",
     "text": [
      "HelloWorld!\n"
     ]
    }
   ],
   "source": [
    "import hashlib\n",
    "Message = input(\"Type out Message to Encrypt: \")\n",
    "print(Message)"
   ]
  },
  {
   "cell_type": "code",
   "execution_count": 26,
   "outputs": [
    {
     "name": "stdout",
     "output_type": "stream",
     "text": [
      "SHA1:\n",
      "d735871a64133ee062400659cf91b8234d1c1930\n"
     ]
    }
   ],
   "source": [
    "\"\"\" SHA 1 \"\"\"\n",
    "SHA1_hash = hashlib.sha1(Message.encode())\n",
    "print(f\"SHA1:\\n{SHA1_hash.hexdigest()}\")"
   ],
   "metadata": {
    "collapsed": false,
    "pycharm": {
     "name": "#%%\n"
    }
   }
  },
  {
   "cell_type": "code",
   "execution_count": 27,
   "outputs": [
    {
     "name": "stdout",
     "output_type": "stream",
     "text": [
      "SHA256:\n",
      "44f69ae7f6c6528974d816a2923007b4b3a82c9af505acf2ea4c648b2def879b\n"
     ]
    }
   ],
   "source": [
    "\"\"\" SHA 256 \"\"\"\n",
    "SHA256_hash = hashlib.sha3_256(Message.encode())\n",
    "print(f\"SHA256:\\n{SHA256_hash.hexdigest()}\")"
   ],
   "metadata": {
    "collapsed": false,
    "pycharm": {
     "name": "#%%\n"
    }
   }
  },
  {
   "cell_type": "code",
   "execution_count": 28,
   "outputs": [
    {
     "name": "stdout",
     "output_type": "stream",
     "text": [
      "SHA384:\n",
      "08e447d5bf93e9c8f71fb88f135023b80478423f1aa35458937ef342c581f024332c2e69869cd48a6aeec8d4fadfc38f\n"
     ]
    }
   ],
   "source": [
    "\"\"\" SHA 384 \"\"\"\n",
    "SHA384_hash = hashlib.sha3_384(Message.encode())\n",
    "print(f\"SHA384:\\n{SHA384_hash.hexdigest()}\")"
   ],
   "metadata": {
    "collapsed": false,
    "pycharm": {
     "name": "#%%\n"
    }
   }
  },
  {
   "cell_type": "code",
   "execution_count": 29,
   "outputs": [
    {
     "name": "stdout",
     "output_type": "stream",
     "text": [
      "SHA512:\n",
      "275895f421227cbaba6206cba2bf50f717fb265e1d106a7bc2104fd2bc8fc326fa9e199626a767da57a09e873e54ac725b76c5220a677799a71c2052902a2a96\n"
     ]
    }
   ],
   "source": [
    "\"\"\" SHA 512 \"\"\"\n",
    "SHA512_hash = hashlib.sha3_512(Message.encode())\n",
    "print(f\"SHA512:\\n{SHA512_hash.hexdigest()}\")"
   ],
   "metadata": {
    "collapsed": false,
    "pycharm": {
     "name": "#%%\n"
    }
   }
  }
 ],
 "metadata": {
  "kernelspec": {
   "display_name": "Python 3",
   "language": "python",
   "name": "python3"
  },
  "language_info": {
   "codemirror_mode": {
    "name": "ipython",
    "version": 2
   },
   "file_extension": ".py",
   "mimetype": "text/x-python",
   "name": "python",
   "nbconvert_exporter": "python",
   "pygments_lexer": "ipython2",
   "version": "2.7.6"
  }
 },
 "nbformat": 4,
 "nbformat_minor": 0
}