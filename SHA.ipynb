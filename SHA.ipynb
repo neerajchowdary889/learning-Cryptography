{
 "cells": [
  {
   "cell_type": "code",
   "execution_count": 21,
   "metadata": {
    "collapsed": true,
    "pycharm": {
     "name": "#%%\n"
    }
   },
   "outputs": [
    {
     "name": "stdout",
     "output_type": "stream",
     "text": [
      "Neeraj\n"
     ]
    }
   ],
   "source": [
    "import hashlib\n",
    "Message = input(\"Type out Message to Encrypt: \")\n",
    "print(Message)"
   ]
  },
  {
   "cell_type": "code",
   "execution_count": 22,
   "outputs": [
    {
     "name": "stdout",
     "output_type": "stream",
     "text": [
      "SHA1:\n",
      "261e540d07a6b7cff440be01498640c018780fb8\n"
     ]
    }
   ],
   "source": [
    "\"\"\" SHA 1 \"\"\"\n",
    "SHA1_hash = hashlib.sha1(Message.encode())\n",
    "print(f\"SHA1:\\n{SHA1_hash.hexdigest()}\")"
   ],
   "metadata": {
    "collapsed": false,
    "pycharm": {
     "name": "#%%\n"
    }
   }
  },
  {
   "cell_type": "code",
   "execution_count": 23,
   "outputs": [
    {
     "name": "stdout",
     "output_type": "stream",
     "text": [
      "SHA256:\n",
      "25b8578f6797864a941297faebf4d0661cbd957df53c05a2ced5d831999eabf9\n"
     ]
    }
   ],
   "source": [
    "\"\"\" SHA 256 \"\"\"\n",
    "SHA256_hash = hashlib.sha3_256(Message.encode())\n",
    "print(f\"SHA256:\\n{SHA256_hash.hexdigest()}\")"
   ],
   "metadata": {
    "collapsed": false,
    "pycharm": {
     "name": "#%%\n"
    }
   }
  },
  {
   "cell_type": "code",
   "execution_count": 24,
   "outputs": [
    {
     "name": "stdout",
     "output_type": "stream",
     "text": [
      "SHA384:\n",
      "54df8d5f9848de1bef5ef3259b47f6c7ea81d0dd9f5f8b94f5763ead9933e9c3c946e6b43748021c6cd566c68bb08451\n"
     ]
    }
   ],
   "source": [
    "\"\"\" SHA 384 \"\"\"\n",
    "SHA384_hash = hashlib.sha3_384(Message.encode())\n",
    "print(f\"SHA384:\\n{SHA384_hash.hexdigest()}\")"
   ],
   "metadata": {
    "collapsed": false,
    "pycharm": {
     "name": "#%%\n"
    }
   }
  },
  {
   "cell_type": "code",
   "execution_count": 24,
   "outputs": [],
   "source": [],
   "metadata": {
    "collapsed": false,
    "pycharm": {
     "name": "#%%\n"
    }
   }
  }
 ],
 "metadata": {
  "kernelspec": {
   "display_name": "Python 3",
   "language": "python",
   "name": "python3"
  },
  "language_info": {
   "codemirror_mode": {
    "name": "ipython",
    "version": 2
   },
   "file_extension": ".py",
   "mimetype": "text/x-python",
   "name": "python",
   "nbconvert_exporter": "python",
   "pygments_lexer": "ipython2",
   "version": "2.7.6"
  }
 },
 "nbformat": 4,
 "nbformat_minor": 0
}